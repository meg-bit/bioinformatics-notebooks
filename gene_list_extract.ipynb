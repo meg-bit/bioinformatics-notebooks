{
 "cells": [
  {
   "cell_type": "code",
   "execution_count": 10,
   "metadata": {},
   "outputs": [],
   "source": [
    "suppressPackageStartupMessages(library(dplyr))\n",
    "suppressPackageStartupMessages(library(data.table))\n",
    "suppressPackageStartupMessages(library(tidyverse))"
   ]
  },
  {
   "cell_type": "code",
   "execution_count": null,
   "metadata": {},
   "outputs": [],
   "source": [
    "local.tpm.path <- '../logTPM.csv'\n",
    "log.tpm <- fread(local.tpm.path, fill = TRUE) %>%\n",
    "    column_to_rownames('Gene')\n",
    "log.tpm$V1 <- NULL\n",
    "log.tpm <- log.tpm[complete.cases(log.tpm), ]\n",
    "log.tpm[1:5,1:5]"
   ]
  },
  {
   "cell_type": "code",
   "execution_count": 18,
   "metadata": {},
   "outputs": [
    {
     "name": "stdout",
     "output_type": "stream",
     "text": [
      "[1] 5814 1101\n"
     ]
    }
   ],
   "source": [
    "print(dim(log.tpm))"
   ]
  },
  {
   "cell_type": "code",
   "execution_count": 20,
   "metadata": {},
   "outputs": [
    {
     "data": {
      "text/html": [
       "<style>\n",
       ".list-inline {list-style: none; margin:0; padding: 0}\n",
       ".list-inline>li {display: inline-block}\n",
       ".list-inline>li:not(:last-child)::after {content: \"\\00b7\"; padding: 0 .5ex}\n",
       "</style>\n",
       "<ol class=list-inline><li>'AGR2'</li><li>'CEACAM6'</li><li>'FN1'</li><li>'AZGP1'</li><li>'CLDN3'</li></ol>\n"
      ],
      "text/latex": [
       "\\begin{enumerate*}\n",
       "\\item 'AGR2'\n",
       "\\item 'CEACAM6'\n",
       "\\item 'FN1'\n",
       "\\item 'AZGP1'\n",
       "\\item 'CLDN3'\n",
       "\\end{enumerate*}\n"
      ],
      "text/markdown": [
       "1. 'AGR2'\n",
       "2. 'CEACAM6'\n",
       "3. 'FN1'\n",
       "4. 'AZGP1'\n",
       "5. 'CLDN3'\n",
       "\n",
       "\n"
      ],
      "text/plain": [
       "[1] \"AGR2\"    \"CEACAM6\" \"FN1\"     \"AZGP1\"   \"CLDN3\"  "
      ]
     },
     "metadata": {},
     "output_type": "display_data"
    }
   ],
   "source": [
    "mad.genes <-\n",
    "  apply(log.tpm, 1, mad) %>% \n",
    "    sort(decreasing = TRUE) %>% \n",
    "      names() %>% \n",
    "        head(n = 400)\n",
    "mad.genes[1:5]"
   ]
  },
  {
   "cell_type": "code",
   "execution_count": 23,
   "metadata": {},
   "outputs": [],
   "source": [
    "# write.csv(mad.genes, 'gene_list.csv')"
   ]
  }
 ],
 "metadata": {
  "kernelspec": {
   "display_name": "R",
   "language": "R",
   "name": "ir"
  },
  "language_info": {
   "codemirror_mode": "r",
   "file_extension": ".r",
   "mimetype": "text/x-r-source",
   "name": "R",
   "pygments_lexer": "r",
   "version": "4.1.1"
  }
 },
 "nbformat": 4,
 "nbformat_minor": 5
}
