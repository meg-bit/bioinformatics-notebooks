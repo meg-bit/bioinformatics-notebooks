{
 "cells": [
  {
   "cell_type": "markdown",
   "metadata": {},
   "source": [
    "### Example notebook - Differential Gene Expression (Pathway Enrichment)\n",
    "\n",
    "- title: \"DGE-Pathways\"\n",
    "- author: \"Margaret Paiva\"\n",
    "- output: R notebook"
   ]
  },
  {
   "cell_type": "code",
   "execution_count": 17,
   "metadata": {},
   "outputs": [],
   "source": [
    "# Check your R version if packages are not compatible\n",
    "R.version"
   ]
  },
  {
   "cell_type": "code",
   "execution_count": 4,
   "metadata": {},
   "outputs": [],
   "source": [
    "# Install BiocManager\n",
    "if (!requireNamespace(\"BiocManager\", quietly = TRUE))\n",
    "    install.packages(\"BiocManager\")"
   ]
  },
  {
   "cell_type": "code",
   "execution_count": 3,
   "metadata": {},
   "outputs": [],
   "source": [
    "# Install packages using BiocManager\n",
    "for (pkg in c(\"limma\", \"fgsea\")) {\n",
    "    if (!requireNamespace(pkg, quietly = TRUE)) {\n",
    "        BiocManager::install(pkg, update = FALSE, \n",
    "                             ask = FALSE, force = TRUE)\n",
    "    }\n",
    "}"
   ]
  },
  {
   "cell_type": "code",
   "execution_count": 2,
   "metadata": {},
   "outputs": [],
   "source": [
    "suppressPackageStartupMessages(library(jsonlite))\n",
    "suppressPackageStartupMessages(library(rjson))\n",
    "suppressPackageStartupMessages(library(httr))\n",
    "suppressPackageStartupMessages(library(dplyr))\n",
    "suppressPackageStartupMessages(library(data.table))\n",
    "suppressPackageStartupMessages(library(parallel))\n",
    "suppressPackageStartupMessages(library(DBI))\n",
    "suppressPackageStartupMessages(library(DT))\n",
    "suppressPackageStartupMessages(library(limma))\n",
    "suppressPackageStartupMessages(library(fgsea))\n",
    "suppressPackageStartupMessages(library(tidyr))\n",
    "suppressPackageStartupMessages(library(tibble))\n",
    "suppressPackageStartupMessages(library(ggplot2))"
   ]
  },
  {
   "cell_type": "code",
   "execution_count": 3,
   "metadata": {},
   "outputs": [],
   "source": [
    "# In \"gene_list.csv\", define a list of genes of interest\n",
    "gene_list  <- as.list(read.csv(\"gene_list.csv\")$x)"
   ]
  },
  {
   "cell_type": "code",
   "execution_count": 52,
   "metadata": {},
   "outputs": [],
   "source": [
    "# Enter the file name of the .json file in your root directory below\n",
    "lt  <-  fromJSON(file = \"./data/requested_data---19-10-2021---20_44_20.json\")"
   ]
  },
  {
   "cell_type": "code",
   "execution_count": null,
   "metadata": {},
   "outputs": [],
   "source": [
    "# Create a dataframe from the data\n",
    "df  <- do.call(rbind, lapply(lt, rbind))\n",
    "df  <- as.data.frame(df)\n",
    "df$gene  <- as.character(df$gene)  # each column is a list - specify data type\n",
    "df$model  <- as.character(df$model)\n",
    "df$log.tpm  <- as.numeric(df$log.tpm)\n",
    "df$z  <- as.numeric(df$z)\n",
    "head(df, 2)\n",
    "print(dim(df))"
   ]
  },
  {
   "cell_type": "markdown",
   "metadata": {},
   "source": [
    "### GSEA pathway enrichment analysis\n",
    "\n",
    "I load an object previously generated here. The only file needed besides the API data above is pathways.gmt. You can download it from https://www.pathwaycommons.org/."
   ]
  },
  {
   "cell_type": "code",
   "execution_count": 12,
   "metadata": {},
   "outputs": [
    {
     "name": "stdout",
     "output_type": "stream",
     "text": [
      "Loading objects:\n",
      "  cnv.db\n",
      "  lcpm.list\n",
      "  lrpkm.lst\n",
      "  mut.db\n",
      "  pathways.gmt\n",
      "  pathways_namming\n",
      "  rna.seq\n",
      "  rna.seq.heme\n",
      "  symbols.dt\n"
     ]
    }
   ],
   "source": [
    "load(\"../data/RData_uncomp_20210714\", verbose=TRUE)"
   ]
  },
  {
   "cell_type": "markdown",
   "metadata": {},
   "source": [
    "To use GSEA for pathway enrichment analysis, a ranking data with genes ranked by the t or z statistics must be provided. Here, we can extract the statistics from the API data. For your own research, you can calculate the t statistics between genes using the `log.tpm` column of the API data."
   ]
  },
  {
   "cell_type": "code",
   "execution_count": 54,
   "metadata": {},
   "outputs": [
    {
     "data": {
      "text/html": [
       "<dl class=dl-horizontal>\n",
       "\t<dt>ACSM3</dt>\n",
       "\t\t<dd>-0.169317194943646</dd>\n",
       "\t<dt>COPZ2</dt>\n",
       "\t\t<dd>-0.994615041230675</dd>\n",
       "</dl>\n"
      ],
      "text/latex": [
       "\\begin{description*}\n",
       "\\item[ACSM3] -0.169317194943646\n",
       "\\item[COPZ2] -0.994615041230675\n",
       "\\end{description*}\n"
      ],
      "text/markdown": [
       "ACSM3\n",
       ":   -0.169317194943646COPZ2\n",
       ":   -0.994615041230675\n",
       "\n"
      ],
      "text/plain": [
       "     ACSM3      COPZ2 \n",
       "-0.1693172 -0.9946150 "
      ]
     },
     "metadata": {},
     "output_type": "display_data"
    }
   ],
   "source": [
    "ranks <- df %>% \n",
    "  dplyr::select(gene, z) %>% \n",
    "  na.omit() %>%\n",
    "  deframe()\n",
    "head(ranks, 2)"
   ]
  },
  {
   "cell_type": "markdown",
   "metadata": {},
   "source": [
    "Now, we have everything we need to perform pathway enrichment analysis."
   ]
  },
  {
   "cell_type": "code",
   "execution_count": 55,
   "metadata": {},
   "outputs": [
    {
     "data": {
      "text/html": [
       "<table>\n",
       "<thead><tr><th scope=col>pathway</th><th scope=col>pval</th><th scope=col>padj</th><th scope=col>ES</th><th scope=col>NES</th><th scope=col>nMoreExtreme</th><th scope=col>size</th><th scope=col>leadingEdge</th></tr></thead>\n",
       "<tbody>\n",
       "\t<tr><td>http://identifiers.org/kegg.pathway/hsa00010</td><td>0.14717742                                  </td><td>0.16200104                                  </td><td>0.8098988                                   </td><td>1.317346                                    </td><td>72                                          </td><td>2                                           </td><td>FBP1   , ALDH3A1                            </td></tr>\n",
       "\t<tr><td>http://identifiers.org/kegg.pathway/hsa00030</td><td>0.03333333                                  </td><td>0.04126214                                  </td><td>0.9808693                                   </td><td>1.307532                                    </td><td>15                                          </td><td>1                                           </td><td>FBP1                                        </td></tr>\n",
       "</tbody>\n",
       "</table>\n"
      ],
      "text/latex": [
       "\\begin{tabular}{r|llllllll}\n",
       " pathway & pval & padj & ES & NES & nMoreExtreme & size & leadingEdge\\\\\n",
       "\\hline\n",
       "\t http://identifiers.org/kegg.pathway/hsa00010 & 0.14717742                                   & 0.16200104                                   & 0.8098988                                    & 1.317346                                     & 72                                           & 2                                            & FBP1   , ALDH3A1                            \\\\\n",
       "\t http://identifiers.org/kegg.pathway/hsa00030 & 0.03333333                                   & 0.04126214                                   & 0.9808693                                    & 1.307532                                     & 15                                           & 1                                            & FBP1                                        \\\\\n",
       "\\end{tabular}\n"
      ],
      "text/markdown": [
       "\n",
       "| pathway | pval | padj | ES | NES | nMoreExtreme | size | leadingEdge |\n",
       "|---|---|---|---|---|---|---|---|\n",
       "| http://identifiers.org/kegg.pathway/hsa00010 | 0.14717742                                   | 0.16200104                                   | 0.8098988                                    | 1.317346                                     | 72                                           | 2                                            | FBP1   , ALDH3A1                             |\n",
       "| http://identifiers.org/kegg.pathway/hsa00030 | 0.03333333                                   | 0.04126214                                   | 0.9808693                                    | 1.307532                                     | 15                                           | 1                                            | FBP1                                         |\n",
       "\n"
      ],
      "text/plain": [
       "  pathway                                      pval       padj       ES       \n",
       "1 http://identifiers.org/kegg.pathway/hsa00010 0.14717742 0.16200104 0.8098988\n",
       "2 http://identifiers.org/kegg.pathway/hsa00030 0.03333333 0.04126214 0.9808693\n",
       "  NES      nMoreExtreme size leadingEdge     \n",
       "1 1.317346 72           2    FBP1   , ALDH3A1\n",
       "2 1.307532 15           1    FBP1            "
      ]
     },
     "metadata": {},
     "output_type": "display_data"
    }
   ],
   "source": [
    "fgseaRes <- suppressWarnings(fgsea(pathways = pathways.gmt,\n",
    "     stats = ranks,\n",
    "     nperm = 1000))\n",
    "head(fgseaRes, 2)"
   ]
  },
  {
   "cell_type": "markdown",
   "metadata": {},
   "source": [
    "- ES – enrichment score\n",
    "- NES – normalized enrichment score"
   ]
  },
  {
   "cell_type": "code",
   "execution_count": 56,
   "metadata": {},
   "outputs": [],
   "source": [
    "# Rank the pathways by the normalized enrichment scores\n",
    "fgseaResTidy <- fgseaRes %>%\n",
    "  as_tibble() %>%\n",
    "  arrange(desc(NES))"
   ]
  },
  {
   "cell_type": "code",
   "execution_count": 58,
   "metadata": {},
   "outputs": [
    {
     "data": {
      "image/png": "[encoded data removed]",
      "text/plain": [
       "plot without title"
      ]
     },
     "metadata": {},
     "output_type": "display_data"
    }
   ],
   "source": [
    "# Here, I rbind the top pathways and the bottom pathways to show the significant vs. the non-significant pathways\n",
    "# You may want to pick only the top pathways to explore further\n",
    "ggplot(rbind(head(fgseaResTidy, 15), tail(fgseaResTidy, 15)), \n",
    "       aes(reorder(pathway, NES), NES)) +\n",
    "  geom_col(aes(fill=padj<0.05)) +\n",
    "  coord_flip() +\n",
    "  labs(x=\"Pathway\", y=\"Normalized Enrichment Score\") + \n",
    "  theme_minimal()"
   ]
  }
 ],
 "metadata": {
  "kernelspec": {
   "display_name": "R",
   "language": "R",
   "name": "ir"
  },
  "language_info": {
   "codemirror_mode": "r",
   "file_extension": ".r",
   "mimetype": "text/x-r-source",
   "name": "R",
   "pygments_lexer": "r",
   "version": "3.6.1"
  }
 },
 "nbformat": 4,
 "nbformat_minor": 5
}
