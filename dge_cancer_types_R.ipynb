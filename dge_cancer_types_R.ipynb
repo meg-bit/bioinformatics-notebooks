{
 "cells": [
  {
   "cell_type": "markdown",
   "metadata": {},
   "source": [
    "### Example notebook - differential gene expression for different cancer types\n",
    "\n",
    "This notebook demonstrates the analysis of differential gene expression.\n",
    "- title: \"DGE - Cancer Types\"\n",
    "- author: \"Margaret Paiva\"\n",
    "- output: R notebook"
   ]
  },
  {
   "cell_type": "code",
   "execution_count": 2,
   "metadata": {},
   "outputs": [],
   "source": [
    "suppressPackageStartupMessages(library(jsonlite))\n",
    "suppressPackageStartupMessages(library(rjson))\n",
    "suppressPackageStartupMessages(library(httr))\n",
    "suppressPackageStartupMessages(library(dplyr))\n",
    "suppressPackageStartupMessages(library(data.table))\n",
    "suppressPackageStartupMessages(library(parallel))\n",
    "suppressPackageStartupMessages(library(DBI))\n",
    "suppressPackageStartupMessages(library(DT))\n",
    "suppressPackageStartupMessages(library(limma))\n",
    "suppressPackageStartupMessages(library(fgsea))\n",
    "suppressPackageStartupMessages(library(tidyr))\n",
    "suppressPackageStartupMessages(library(tibble))\n",
    "suppressPackageStartupMessages(library(ggplot2))"
   ]
  },
  {
   "cell_type": "code",
   "execution_count": 3,
   "metadata": {},
   "outputs": [],
   "source": [
    "# In \"gene_list.csv\", define a list of genes of interest\n",
    "gene_list  <- as.list(read.csv(\"gene_list.csv\")$x)"
   ]
  },
  {
   "cell_type": "code",
   "execution_count": 4,
   "metadata": {},
   "outputs": [],
   "source": [
    "# Enter the file name of the .json file in your root directory below\n",
    "lt  <-  fromJSON(file = \"./data/requested_data---19-10-2021---20_44_20.json\")"
   ]
  },
  {
   "cell_type": "code",
   "execution_count": null,
   "metadata": {},
   "outputs": [],
   "source": [
    "# Create a dataframe from the data\n",
    "df  <- do.call(rbind, lapply(lt, rbind))\n",
    "df  <- as.data.frame(df)\n",
    "df$tumor_type  <- as.character(df$tumor_type)  # each column is a list - specify data type\n",
    "df$z  <- as.numeric(df$z)\n",
    "head(df, 2)\n",
    "print(dim(df))"
   ]
  },
  {
   "cell_type": "code",
   "execution_count": null,
   "metadata": {},
   "outputs": [],
   "source": [
    "# Define a gene of interest\n",
    "gene_choice <- 'ACSM3'\n",
    "df_gene  <- df %>% \n",
    "    na.omit()  %>% \n",
    "    filter(gene==gene_choice)  # put your gene of interest here\n",
    "head(df_gene, 2)"
   ]
  },
  {
   "cell_type": "code",
   "execution_count": 9,
   "metadata": {
    "scrolled": false
   },
   "outputs": [
    {
     "data": {
      "image/png": "[encoded data removed]",
      "text/plain": [
       "plot without title"
      ]
     },
     "metadata": {},
     "output_type": "display_data"
    }
   ],
   "source": [
    "# Visualize the expression levels by cancer type\n",
    "ggplot(df_gene, aes(x=tumor_type, y=z, fill=tumor_type, color=tumor_type)) +\n",
    "    geom_boxplot(alpha=0.6) +\n",
    "    theme(axis.text.x = element_text(angle = 45, hjust = 1),\n",
    "          legend.position = \"none\", \n",
    "          plot.margin = unit(c(0,0,0,1)+0.1, \"cm\")) +\n",
    "    labs(x=\"\", y=\"Z Score\", \n",
    "         title=paste0(gene_choice, \" RNA expression by cancer type\")) +\n",
    "    scale_fill_brewer(palette=\"BrBG\")"
   ]
  }
 ],
 "metadata": {
  "kernelspec": {
   "display_name": "R",
   "language": "R",
   "name": "ir"
  },
  "language_info": {
   "codemirror_mode": "r",
   "file_extension": ".r",
   "mimetype": "text/x-r-source",
   "name": "R",
   "pygments_lexer": "r",
   "version": "3.6.1"
  }
 },
 "nbformat": 4,
 "nbformat_minor": 5
}
