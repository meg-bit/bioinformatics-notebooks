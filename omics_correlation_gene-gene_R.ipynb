{
 "cells": [
  {
   "cell_type": "markdown",
   "metadata": {},
   "source": [
    "### Example notebook - OMICS correlation: gene to gene\n",
    "\n",
    "This notebook demonstrates reading the analysis of OMICS data correlation.\n",
    "- title: \"OMICS correlation: gene to gene\"\n",
    "- author: \"Margaret Paiva\"\n",
    "- output: R notebook"
   ]
  },
  {
   "cell_type": "code",
   "execution_count": 17,
   "metadata": {},
   "outputs": [],
   "source": [
    "# Check your R version if packages are not compatible\n",
    "R.version"
   ]
  },
  {
   "cell_type": "code",
   "execution_count": 17,
   "metadata": {},
   "outputs": [],
   "source": [
    "suppressPackageStartupMessages(library(jsonlite))\n",
    "suppressPackageStartupMessages(library(rjson))\n",
    "suppressPackageStartupMessages(library(httr))\n",
    "suppressPackageStartupMessages(library(dplyr))\n",
    "suppressPackageStartupMessages(library(data.table))\n",
    "suppressPackageStartupMessages(library(tidyr))\n",
    "suppressPackageStartupMessages(library(tibble))\n",
    "suppressPackageStartupMessages(library(reshape2))\n",
    "suppressPackageStartupMessages(library(ggplot2))"
   ]
  },
  {
   "cell_type": "code",
   "execution_count": 3,
   "metadata": {},
   "outputs": [],
   "source": [
    "# Enter the file name of the .json file in your root directory below\n",
    "lt  <-  fromJSON(file = \"./data/requested_data---22-10-2021---16_01_19.json\")"
   ]
  },
  {
   "cell_type": "code",
   "execution_count": null,
   "metadata": {
    "scrolled": true
   },
   "outputs": [],
   "source": [
    "# Create a dataframe from the data\n",
    "df  <- do.call(rbind, lapply(lt, rbind))\n",
    "df  <- as.data.frame(df)\n",
    "df$gene  <- as.character(df$gene)  # each column is a list - specify data type\n",
    "df$log.tpm  <- as.numeric(df$log.tpm)\n",
    "head(df, 2)\n",
    "print(dim(df))"
   ]
  },
  {
   "cell_type": "code",
   "execution_count": null,
   "metadata": {
    "scrolled": false
   },
   "outputs": [],
   "source": [
    "# Extract the expression values and pivot a table for genes\n",
    "gene_tpm <- df %>% \n",
    "  dplyr::select(gene, log.tpm, model) %>% \n",
    "  na.omit() %>% \n",
    "  pivot_wider(names_from = gene, \n",
    "              values_from = log.tpm) %>% \n",
    "  column_to_rownames('model')\n",
    "gene_tpm[1:5, 1:5]"
   ]
  },
  {
   "cell_type": "markdown",
   "metadata": {},
   "source": [
    "### Example to correlate two genes"
   ]
  },
  {
   "cell_type": "code",
   "execution_count": 16,
   "metadata": {},
   "outputs": [
    {
     "data": {
      "text/html": [
       "0.624458568994557"
      ],
      "text/latex": [
       "0.624458568994557"
      ],
      "text/markdown": [
       "0.624458568994557"
      ],
      "text/plain": [
       "[1] 0.6244586"
      ]
     },
     "metadata": {},
     "output_type": "display_data"
    }
   ],
   "source": [
    "# The correlation\n",
    "rho <- cor(gene_tpm$BRCA1, gene_tpm$BRCA2)\n",
    "rho"
   ]
  },
  {
   "cell_type": "code",
   "execution_count": 35,
   "metadata": {},
   "outputs": [
    {
     "data": {
      "image/png": "[encoded data removed]",
      "text/plain": [
       "plot without title"
      ]
     },
     "metadata": {},
     "output_type": "display_data"
    }
   ],
   "source": [
    "# Plotting\n",
    "options(repr.plot.width = 4, repr.plot.height = 4)\n",
    "ggplot(gene_tpm, mapping = aes(x = BRCA1, y = BRCA2))+\n",
    "geom_point()+\n",
    "geom_smooth(method = \"lm\", se = FALSE, formula = y ~ x)+\n",
    "geom_text(x = 1.6, y = 6, label = paste(\"Correlation=\", round(rho, 3), collapse=\"\"))+\n",
    "ggtitle(\"Correlation of the log.tpm from two genes\")+\n",
    "xlab(\"BRCA1\")+\n",
    "ylab(\"BRCA2\")"
   ]
  },
  {
   "cell_type": "markdown",
   "metadata": {},
   "source": [
    "### Correlation map of all requested genes"
   ]
  },
  {
   "cell_type": "code",
   "execution_count": 11,
   "metadata": {},
   "outputs": [
    {
     "data": {
      "text/html": [
       "<table>\n",
       "<thead><tr><th></th><th scope=col>BRCA1</th><th scope=col>PALB2</th><th scope=col>CCND1</th><th scope=col>CDKN1B</th><th scope=col>KRAS</th></tr></thead>\n",
       "<tbody>\n",
       "\t<tr><th scope=row>BRCA1</th><td> 1.0</td><td>0.4 </td><td>-0.1</td><td>0.2 </td><td>0.2 </td></tr>\n",
       "\t<tr><th scope=row>PALB2</th><td> 0.4</td><td>1.0 </td><td> 0.0</td><td>0.2 </td><td>0.2 </td></tr>\n",
       "\t<tr><th scope=row>CCND1</th><td>-0.1</td><td>0.0 </td><td> 1.0</td><td>0.1 </td><td>0.1 </td></tr>\n",
       "\t<tr><th scope=row>CDKN1B</th><td> 0.2</td><td>0.2 </td><td> 0.1</td><td>1.0 </td><td>0.3 </td></tr>\n",
       "\t<tr><th scope=row>KRAS</th><td> 0.2</td><td>0.2 </td><td> 0.1</td><td>0.3 </td><td>1.0 </td></tr>\n",
       "</tbody>\n",
       "</table>\n"
      ],
      "text/latex": [
       "\\begin{tabular}{r|lllll}\n",
       "  & BRCA1 & PALB2 & CCND1 & CDKN1B & KRAS\\\\\n",
       "\\hline\n",
       "\tBRCA1 &  1.0 & 0.4  & -0.1 & 0.2  & 0.2 \\\\\n",
       "\tPALB2 &  0.4 & 1.0  &  0.0 & 0.2  & 0.2 \\\\\n",
       "\tCCND1 & -0.1 & 0.0  &  1.0 & 0.1  & 0.1 \\\\\n",
       "\tCDKN1B &  0.2 & 0.2  &  0.1 & 1.0  & 0.3 \\\\\n",
       "\tKRAS &  0.2 & 0.2  &  0.1 & 0.3  & 1.0 \\\\\n",
       "\\end{tabular}\n"
      ],
      "text/markdown": [
       "\n",
       "| <!--/--> | BRCA1 | PALB2 | CCND1 | CDKN1B | KRAS |\n",
       "|---|---|---|---|---|---|\n",
       "| BRCA1 |  1.0 | 0.4  | -0.1 | 0.2  | 0.2  |\n",
       "| PALB2 |  0.4 | 1.0  |  0.0 | 0.2  | 0.2  |\n",
       "| CCND1 | -0.1 | 0.0  |  1.0 | 0.1  | 0.1  |\n",
       "| CDKN1B |  0.2 | 0.2  |  0.1 | 1.0  | 0.3  |\n",
       "| KRAS |  0.2 | 0.2  |  0.1 | 0.3  | 1.0  |\n",
       "\n"
      ],
      "text/plain": [
       "       BRCA1 PALB2 CCND1 CDKN1B KRAS\n",
       "BRCA1   1.0  0.4   -0.1  0.2    0.2 \n",
       "PALB2   0.4  1.0    0.0  0.2    0.2 \n",
       "CCND1  -0.1  0.0    1.0  0.1    0.1 \n",
       "CDKN1B  0.2  0.2    0.1  1.0    0.3 \n",
       "KRAS    0.2  0.2    0.1  0.3    1.0 "
      ]
     },
     "metadata": {},
     "output_type": "display_data"
    }
   ],
   "source": [
    "# Correlation matrix\n",
    "cormat <- round(cor(gene_tpm, method = 'spearman',\n",
    "                    use = 'na.or.complete'), 1)\n",
    "cormat[1:5, 1:5]"
   ]
  },
  {
   "cell_type": "code",
   "execution_count": 15,
   "metadata": {},
   "outputs": [],
   "source": [
    "# We do not need the whole matrix because the correlation between gene A and B\n",
    "# is the same as the correlation between gene B and A\n",
    "# Therefore, use the following function to extract half of the matrix\n",
    "get_lower_tri<-function(cormat){\n",
    "    cormat[upper.tri(cormat)] <- NA  # the upper triangle is filled with NA\n",
    "    return(cormat)}"
   ]
  },
  {
   "cell_type": "code",
   "execution_count": 16,
   "metadata": {},
   "outputs": [
    {
     "data": {
      "text/html": [
       "<table>\n",
       "<thead><tr><th></th><th scope=col>BRCA1</th><th scope=col>PALB2</th><th scope=col>CCND1</th><th scope=col>CDKN1B</th><th scope=col>KRAS</th></tr></thead>\n",
       "<tbody>\n",
       "\t<tr><th scope=row>BRCA1</th><td> 1.0</td><td> NA </td><td> NA </td><td> NA </td><td>NA  </td></tr>\n",
       "\t<tr><th scope=row>PALB2</th><td> 0.4</td><td>1.0 </td><td> NA </td><td> NA </td><td>NA  </td></tr>\n",
       "\t<tr><th scope=row>CCND1</th><td>-0.1</td><td>0.0 </td><td>1.0 </td><td> NA </td><td>NA  </td></tr>\n",
       "\t<tr><th scope=row>CDKN1B</th><td> 0.2</td><td>0.2 </td><td>0.1 </td><td>1.0 </td><td>NA  </td></tr>\n",
       "\t<tr><th scope=row>KRAS</th><td> 0.2</td><td>0.2 </td><td>0.1 </td><td>0.3 </td><td> 1  </td></tr>\n",
       "</tbody>\n",
       "</table>\n"
      ],
      "text/latex": [
       "\\begin{tabular}{r|lllll}\n",
       "  & BRCA1 & PALB2 & CCND1 & CDKN1B & KRAS\\\\\n",
       "\\hline\n",
       "\tBRCA1 &  1.0 &  NA  &  NA  &  NA  & NA  \\\\\n",
       "\tPALB2 &  0.4 & 1.0  &  NA  &  NA  & NA  \\\\\n",
       "\tCCND1 & -0.1 & 0.0  & 1.0  &  NA  & NA  \\\\\n",
       "\tCDKN1B &  0.2 & 0.2  & 0.1  & 1.0  & NA  \\\\\n",
       "\tKRAS &  0.2 & 0.2  & 0.1  & 0.3  &  1  \\\\\n",
       "\\end{tabular}\n"
      ],
      "text/markdown": [
       "\n",
       "| <!--/--> | BRCA1 | PALB2 | CCND1 | CDKN1B | KRAS |\n",
       "|---|---|---|---|---|---|\n",
       "| BRCA1 |  1.0 |  NA  |  NA  |  NA  | NA   |\n",
       "| PALB2 |  0.4 | 1.0  |  NA  |  NA  | NA   |\n",
       "| CCND1 | -0.1 | 0.0  | 1.0  |  NA  | NA   |\n",
       "| CDKN1B |  0.2 | 0.2  | 0.1  | 1.0  | NA   |\n",
       "| KRAS |  0.2 | 0.2  | 0.1  | 0.3  |  1   |\n",
       "\n"
      ],
      "text/plain": [
       "       BRCA1 PALB2 CCND1 CDKN1B KRAS\n",
       "BRCA1   1.0   NA    NA    NA    NA  \n",
       "PALB2   0.4  1.0    NA    NA    NA  \n",
       "CCND1  -0.1  0.0   1.0    NA    NA  \n",
       "CDKN1B  0.2  0.2   0.1   1.0    NA  \n",
       "KRAS    0.2  0.2   0.1   0.3     1  "
      ]
     },
     "metadata": {},
     "output_type": "display_data"
    }
   ],
   "source": [
    "# a triangle portion of the matrix\n",
    "lower_tri <- get_lower_tri(cormat)\n",
    "lower_tri[1:5, 1:5]  \n",
    "# now the upper triangle is filled with NA since they are the repeats of the lower triangle"
   ]
  },
  {
   "cell_type": "code",
   "execution_count": 19,
   "metadata": {},
   "outputs": [
    {
     "data": {
      "image/png": "[encoded data removed]",
      "text/plain": [
       "plot without title"
      ]
     },
     "metadata": {},
     "output_type": "display_data"
    }
   ],
   "source": [
    "# first, format the matrix for plotting\n",
    "melted_cormat <- melt(lower_tri, na.rm = TRUE)\n",
    "\n",
    "# plotting\n",
    "options(repr.plot.width = 10, repr.plot.height = 10)\n",
    "ggplot(data = melted_cormat, aes(Var2, Var1, fill = value))+\n",
    " geom_tile(color = \"white\")+\n",
    " scale_fill_gradient2(low = \"blue\", high = \"red\", mid = \"white\", \n",
    "   midpoint = 0, limit = c(-1,1), space = \"Lab\", \n",
    "   name=\"Correlation\") +\n",
    "  theme_minimal()+ \n",
    " theme(axis.text.x = element_text(angle = 45, vjust = 1, \n",
    "    size = 10, hjust = 1))+\n",
    " coord_fixed()+\n",
    " geom_text(aes(Var2, Var1, label = value), color = \"black\", size = 3)+\n",
    " theme(\n",
    "  axis.title.x = element_blank(),\n",
    "  axis.title.y = element_blank(),\n",
    "  panel.grid.major = element_blank(),\n",
    "  panel.border = element_blank(),\n",
    "  panel.background = element_blank(),\n",
    "  axis.ticks = element_blank())+\n",
    "  guides(fill = guide_colorbar(barwidth = 1, barheight = 8,\n",
    "                title.position = \"top\", title.hjust = 0.5))"
   ]
  }
 ],
 "metadata": {
  "kernelspec": {
   "display_name": "R",
   "language": "R",
   "name": "ir"
  },
  "language_info": {
   "codemirror_mode": "r",
   "file_extension": ".r",
   "mimetype": "text/x-r-source",
   "name": "R",
   "pygments_lexer": "r",
   "version": "3.6.1"
  }
 },
 "nbformat": 4,
 "nbformat_minor": 5
}
